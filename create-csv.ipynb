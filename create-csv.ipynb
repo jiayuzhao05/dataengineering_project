{
 "cells": [
  {
   "cell_type": "code",
   "execution_count": 1,
   "metadata": {},
   "outputs": [
    {
     "name": "stderr",
     "output_type": "stream",
     "text": [
      "/var/folders/5q/yq3hk8g1793ckqmn2n3xpr6c0000gn/T/ipykernel_1842/512202505.py:16: UserWarning: pandas only supports SQLAlchemy connectable (engine/connection) or database string URI or sqlite3 DBAPI2 connection. Other DBAPI2 objects are not tested. Please consider using SQLAlchemy.\n",
      "  df = pd.read_sql(f\"SELECT * FROM {table}\", conn)\n"
     ]
    }
   ],
   "source": [
    "import pandas as pd\n",
    "import mysql.connector\n",
    "\n",
    "conn = mysql.connector.connect(user = \"root\",\n",
    "                                       password = \"bowser140707\",\n",
    "                                       host = \"localhost\",\n",
    "                                       database = \"HealthCareDB\")\n",
    "\n",
    "tables = [\n",
    "    'dim_demographics', 'dim_behaviors', 'dim_general_health',\n",
    "    'dim_checkup_engagement', 'dim_BMI', 'dim_state',\n",
    "    'dim_state_env', 'dim_state_eco', 'fact_heart_health'\n",
    "]\n",
    "\n",
    "for table in tables:\n",
    "    df = pd.read_sql(f\"SELECT * FROM {table}\", conn)\n",
    "    df.to_csv(f'csvs/{table}.csv', index=False)\n",
    "\n",
    "conn.close()\n"
   ]
  }
 ],
 "metadata": {
  "kernelspec": {
   "display_name": "nlp",
   "language": "python",
   "name": "python3"
  },
  "language_info": {
   "codemirror_mode": {
    "name": "ipython",
    "version": 3
   },
   "file_extension": ".py",
   "mimetype": "text/x-python",
   "name": "python",
   "nbconvert_exporter": "python",
   "pygments_lexer": "ipython3",
   "version": "3.11.8"
  },
  "orig_nbformat": 4
 },
 "nbformat": 4,
 "nbformat_minor": 2
}
